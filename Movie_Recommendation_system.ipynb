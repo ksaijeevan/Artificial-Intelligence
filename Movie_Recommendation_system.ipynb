{
  "nbformat": 4,
  "nbformat_minor": 0,
  "metadata": {
    "colab": {
      "provenance": [],
      "authorship_tag": "ABX9TyMx0YpuvzUFC4hnn6w1w9/n",
      "include_colab_link": true
    },
    "kernelspec": {
      "name": "python3",
      "display_name": "Python 3"
    },
    "language_info": {
      "name": "python"
    }
  },
  "cells": [
    {
      "cell_type": "markdown",
      "metadata": {
        "id": "view-in-github",
        "colab_type": "text"
      },
      "source": [
        "<a href=\"https://colab.research.google.com/github/ksaijeevan/Artificial-Intelligence/blob/main/Movie_Recommendation_system.ipynb\" target=\"_parent\"><img src=\"https://colab.research.google.com/assets/colab-badge.svg\" alt=\"Open In Colab\"/></a>"
      ]
    },
    {
      "cell_type": "code",
      "source": [
        "import pandas as pd\n",
        "import numpy as np\n",
        "import matplotlib.pyplot as plt\n",
        "import seaborn as sns\n",
        "from sklearn.feature_extraction.text import TfidfVectorizer\n",
        "from sklearn.metrics.pairwise import cosine_similarity\n"
      ],
      "metadata": {
        "id": "5DgJklEzpP0T"
      },
      "execution_count": null,
      "outputs": []
    },
    {
      "cell_type": "code",
      "source": [
        "movies = pd.read_csv(\"movies.csv\")\n",
        "ratings = pd.read_csv(\"ratings.csv\")\n",
        "\n",
        "print(\"Movies Dataset:\")\n",
        "print(movies.head(), \"\\n\")"
      ],
      "metadata": {
        "colab": {
          "base_uri": "https://localhost:8080/"
        },
        "id": "xvATMpO5wq08",
        "outputId": "d2689d1b-4b72-44b4-b343-30ac95e27a60"
      },
      "execution_count": null,
      "outputs": [
        {
          "output_type": "stream",
          "name": "stdout",
          "text": [
            "Movies Dataset:\n",
            "   movieId                               title  \\\n",
            "0        1                    Toy Story (1995)   \n",
            "1        2                      Jumanji (1995)   \n",
            "2        3             Grumpier Old Men (1995)   \n",
            "3        4            Waiting to Exhale (1995)   \n",
            "4        5  Father of the Bride Part II (1995)   \n",
            "\n",
            "                                        genres  \n",
            "0  Adventure|Animation|Children|Comedy|Fantasy  \n",
            "1                   Adventure|Children|Fantasy  \n",
            "2                               Comedy|Romance  \n",
            "3                         Comedy|Drama|Romance  \n",
            "4                                       Comedy   \n",
            "\n"
          ]
        }
      ]
    },
    {
      "cell_type": "code",
      "source": [
        "print(\"Ratings Dataset:\")\n",
        "print(ratings.head(), \"\\n\")"
      ],
      "metadata": {
        "colab": {
          "base_uri": "https://localhost:8080/"
        },
        "id": "jwO2-igDxLMF",
        "outputId": "aa6b1306-71fa-4a7c-f322-2cf9e3ed4721"
      },
      "execution_count": null,
      "outputs": [
        {
          "output_type": "stream",
          "name": "stdout",
          "text": [
            "Ratings Dataset:\n",
            "   userId  movieId  rating   timestamp\n",
            "0       1       16     4.0  1217897793\n",
            "1       1       24     1.5  1217895807\n",
            "2       1       32     4.0  1217896246\n",
            "3       1       47     4.0  1217896556\n",
            "4       1       50     4.0  1217896523 \n",
            "\n"
          ]
        }
      ]
    },
    {
      "cell_type": "code",
      "source": [
        "print(\"Movies shape:\", movies.shape)\n",
        "print(\"Ratings shape:\", ratings.shape)\n"
      ],
      "metadata": {
        "colab": {
          "base_uri": "https://localhost:8080/"
        },
        "id": "3LDMu0syxUH0",
        "outputId": "c365badc-6ebf-47f4-adbd-63b9bbeb519b"
      },
      "execution_count": null,
      "outputs": [
        {
          "output_type": "stream",
          "name": "stdout",
          "text": [
            "Movies shape: (10329, 3)\n",
            "Ratings shape: (105339, 4)\n"
          ]
        }
      ]
    },
    {
      "cell_type": "code",
      "source": [
        "print(\"Missing values in movies:\\n\",movies.isnull().sum())\n",
        "print(\"Missing values in ratings:\\n\", ratings.isnull().sum())"
      ],
      "metadata": {
        "colab": {
          "base_uri": "https://localhost:8080/"
        },
        "id": "tH7bMYYKxf0K",
        "outputId": "dbfcd0ad-15c4-4533-b10e-6d23fa5ac957"
      },
      "execution_count": null,
      "outputs": [
        {
          "output_type": "stream",
          "name": "stdout",
          "text": [
            "Missing values in movies:\n",
            " movieId    0\n",
            "title      0\n",
            "genres     0\n",
            "dtype: int64\n",
            "Missing values in ratings:\n",
            " userId       0\n",
            "movieId      0\n",
            "rating       0\n",
            "timestamp    0\n",
            "dtype: int64\n"
          ]
        }
      ]
    },
    {
      "cell_type": "code",
      "source": [
        "data = pd.merge(movies, ratings, on='movieId')\n",
        "print(\"\\n Merged Dataset Sample:\")\n",
        "print(data.head())"
      ],
      "metadata": {
        "colab": {
          "base_uri": "https://localhost:8080/"
        },
        "id": "zrl3P9nRxxMh",
        "outputId": "db454218-c2f7-4655-d33a-7645a68c3e95"
      },
      "execution_count": null,
      "outputs": [
        {
          "output_type": "stream",
          "name": "stdout",
          "text": [
            "\n",
            " Merged Dataset Sample:\n",
            "   movieId             title                                       genres  \\\n",
            "0        1  Toy Story (1995)  Adventure|Animation|Children|Comedy|Fantasy   \n",
            "1        1  Toy Story (1995)  Adventure|Animation|Children|Comedy|Fantasy   \n",
            "2        1  Toy Story (1995)  Adventure|Animation|Children|Comedy|Fantasy   \n",
            "3        1  Toy Story (1995)  Adventure|Animation|Children|Comedy|Fantasy   \n",
            "4        1  Toy Story (1995)  Adventure|Animation|Children|Comedy|Fantasy   \n",
            "\n",
            "   userId  rating   timestamp  \n",
            "0       2     5.0   859046895  \n",
            "1       5     4.0  1303501039  \n",
            "2       8     5.0   858610933  \n",
            "3      11     4.0   850815810  \n",
            "4      14     4.0   851766286  \n"
          ]
        }
      ]
    },
    {
      "cell_type": "code",
      "source": [
        "print(\"\\n Unique Users and Movies\")\n",
        "print(\"\\n Number of Unique Users:\", data['userId'].nunique())\n",
        "print(\"\\n Number of Unique Movies:\",data['movieId'].nunique())"
      ],
      "metadata": {
        "colab": {
          "base_uri": "https://localhost:8080/"
        },
        "id": "AQTwjCUNyH5M",
        "outputId": "4cbe1f9d-3b47-4481-e3b2-c9e4987df66f"
      },
      "execution_count": null,
      "outputs": [
        {
          "output_type": "stream",
          "name": "stdout",
          "text": [
            "\n",
            " Unique Users and Movies\n",
            "\n",
            " Number of Unique Users: 668\n",
            "\n",
            " Number of Unique Movies: 10325\n"
          ]
        }
      ]
    },
    {
      "cell_type": "code",
      "source": [
        "print(\"\\n Average Rating per Movie\")\n",
        "avg_rating = data.groupby('title')['rating'].mean().sort_values(ascending = False)\n",
        "print(\"\\n Top 5 Movies by Average Rating:\")\n",
        "print(avg_rating.head())"
      ],
      "metadata": {
        "colab": {
          "base_uri": "https://localhost:8080/"
        },
        "id": "NbaAns8ayuxs",
        "outputId": "5cd897b4-2a25-4f87-a0ca-31dd15db91d0"
      },
      "execution_count": null,
      "outputs": [
        {
          "output_type": "stream",
          "name": "stdout",
          "text": [
            "\n",
            " Average Rating per Movie\n",
            "\n",
            " Top 5 Movies by Average Rating:\n",
            "title\n",
            "Ghost in the Shell: Stand Alone Complex - The Laughing Man (2005)    5.0\n",
            "Speedy (1928)                                                        5.0\n",
            "Cold Fever (Á köldum klaka) (1995)                                   5.0\n",
            "Symbol (Shinboru) (2009)                                             5.0\n",
            "Limelight (1952)                                                     5.0\n",
            "Name: rating, dtype: float64\n"
          ]
        }
      ]
    },
    {
      "cell_type": "code",
      "source": [
        "plt.figure(figsize=(8,5))\n",
        "sns.histplot(data['rating'], bins=9, kde = True)\n",
        "plt.title(\"Distribution of Ratings\")\n",
        "plt.xlabel(\"Rating\")\n",
        "plt.ylabel(\"count\")\n",
        "plt.show()"
      ],
      "metadata": {
        "colab": {
          "base_uri": "https://localhost:8080/",
          "height": 487
        },
        "id": "7rxF_Xl9zS6L",
        "outputId": "51a50253-0afc-47c2-eb08-5dd9fd6eacee"
      },
      "execution_count": null,
      "outputs": [
        {
          "output_type": "display_data",
          "data": {
            "text/plain": [
              "<Figure size 800x500 with 1 Axes>"
            ],
            "image/png": "[encoded data removed]"
          },
          "metadata": {}
        }
      ]
    },
    {
      "cell_type": "code",
      "source": [
        "def popularity_based_recommender(genre_input, min_reviews, top_n):\n",
        "    movies_exploded = movies.copy()\n",
        "    movies_exploded['genres'] = movies_exploded['genres'].str.split('|')\n",
        "    movies_exploded = movies_exploded.explode('genres')\n",
        "\n",
        "    genre_movies = movies_exploded[movies_exploded['genres'] == genre_input]\n",
        "\n",
        "    merged = pd.merge(ratings, genre_movies, on='movieId')\n",
        "\n",
        "    grouped = merged.groupby('title').agg({ 'rating': ['mean', 'count']}).reset_index()\n",
        "    grouped.columns = ['title', 'avg_rating', 'num_reviews']\n",
        "\n",
        "\n",
        "    filtered = grouped[grouped['num_reviews'] >= min_reviews]\n",
        "    result = filtered.sort_values(by='avg_rating', ascending=False).head(top_n)\n",
        "    return result.reset_index(drop=True)\n",
        "\n",
        "genre = input(\"Enter Genre: \")\n",
        "min_reviews = int(input(\"Enter Minimum Number of Reviews: \"))\n",
        "top_n = int(input(\"Enter Number of Recommendations: \"))\n",
        "print(\"\\n Popularity-Based Recommendations:\")\n",
        "print(popularity_based_recommender(genre, min_reviews, top_n))"
      ],
      "metadata": {
        "colab": {
          "base_uri": "https://localhost:8080/"
        },
        "id": "03kwkmoMztUb",
        "outputId": "bb206c2c-9567-4aea-e44d-0048d561260c"
      },
      "execution_count": null,
      "outputs": [
        {
          "output_type": "stream",
          "name": "stdout",
          "text": [
            "Enter Genre: Action , Thriller\n",
            "Enter Minimum Number of Reviews: 10\n",
            "Enter Number of Recommendations: 36\n",
            "\n",
            " Popularity-Based Recommendations:\n",
            "Empty DataFrame\n",
            "Columns: [title, avg_rating, num_reviews]\n",
            "Index: []\n"
          ]
        }
      ]
    },
    {
      "cell_type": "code",
      "source": [
        "genre_tfidf = movies.copy()\n",
        "genre_tfidf['genres'] = genre_tfidf['genres'].str.replace('|', ' ')\n",
        "tfidf = TfidfVectorizer(stop_words='english')\n",
        "tfidf_matrix = tfidf.fit_transform(genre_tfidf['genres'])\n",
        "\n",
        "cosine_sim = cosine_similarity(tfidf_matrix, tfidf_matrix)\n",
        "title_to_index = pd.Series(genre_tfidf.index, index=genre_tfidf['title']).drop_duplicates()\n",
        "\n",
        "def content_based_recommender(movie_title, top_n):\n",
        "    if movie_title not in title_to_index:\n",
        "        return f\" Movie '{movie_title}' not found in the dataset.\"\n",
        "\n",
        "    idx = title_to_index[movie_title]\n",
        "    sim_scores = list(enumerate(cosine_sim[idx]))\n",
        "    sim_scores = sorted(sim_scores, key=lambda x: x[1], reverse=True)\n",
        "\n",
        "    movie_indices = [i[0] for i in sim_scores[1:top_n+1]]\n",
        "    return genre_tfidf[['title', 'genres']].iloc[movie_indices].reset_index(drop=True)\n",
        "\n",
        "movie_title = input(\"Enter Movie Title (e.g., Toy Story (1995)): \")\n",
        "top_n = int(input(\"Enter Number of Similar Movies to Recommend: \"))\n",
        "\n",
        "print(\"\\n Content-Based Recommendations:\")\n",
        "print(content_based_recommender(movie_title, top_n))"
      ],
      "metadata": {
        "colab": {
          "base_uri": "https://localhost:8080/"
        },
        "id": "PFBCq3iv0LzV",
        "outputId": "0ab5eb9c-ef6f-4fb9-f453-cf44db91c119"
      },
      "execution_count": null,
      "outputs": [
        {
          "output_type": "stream",
          "name": "stdout",
          "text": [
            "Enter Movie Title (e.g., Toy Story (1995)): Titanic (1997)\n",
            "Enter Number of Similar Movies to Recommend: 10\n",
            "\n",
            " Content-Based Recommendations:\n",
            "                                             title         genres\n",
            "0                         Leaving Las Vegas (1995)  Drama Romance\n",
            "1                                Persuasion (1995)  Drama Romance\n",
            "2                                Carrington (1995)  Drama Romance\n",
            "3             How to Make an American Quilt (1995)  Drama Romance\n",
            "4                     When Night Is Falling (1995)  Drama Romance\n",
            "5                              Bed of Roses (1996)  Drama Romance\n",
            "6  Once Upon a Time... When We Were Colored (1995)  Drama Romance\n",
            "7                        Angels and Insects (1995)  Drama Romance\n",
            "8            Bridges of Madison County, The (1995)  Drama Romance\n",
            "9                         Frankie Starlight (1995)  Drama Romance\n"
          ]
        }
      ]
    },
    {
      "cell_type": "code",
      "source": [
        "user_movie_matrix = ratings.pivot_table(index='userId', columns='movieId', values='rating')\n",
        "user_movie_filled = user_movie_matrix.fillna(0)\n",
        "user_similarity = cosine_similarity(user_movie_filled)\n",
        "user_similarity_df = pd.DataFrame(user_similarity, index=user_movie_matrix.index, columns=user_movie_matrix.index)\n",
        "\n",
        "def collaborative_recommender(user_id, k_similar_users, top_n):\n",
        "    if user_id not in user_similarity_df.index:\n",
        "        return f\"User ID {user_id} not found.\"\n",
        "\n",
        "    sim_users = user_similarity_df[user_id].sort_values(ascending=False).drop(user_id).head(k_similar_users).index.tolist()\n",
        "    sim_users_ratings = user_movie_matrix.loc[sim_users]\n",
        "\n",
        "    user_rated = user_movie_matrix.loc[user_id].dropna().index\n",
        "    mean_ratings = sim_users_ratings.drop(columns=user_rated, errors='ignore').mean().dropna()\n",
        "\n",
        "    top_ids = mean_ratings.sort_values(ascending=False).head(top_n).index\n",
        "    return movies[movies['movieId'].isin(top_ids)][['title']].reset_index(drop=True)\n",
        "\n",
        "user_id = int(input(\"Enter User ID (e.g., 1): \"))\n",
        "k_users = int(input(\"Enter Number of Similar Users (K): \"))\n",
        "top_n = int(input(\"Enter Number of Recommendations: \"))\n",
        "\n",
        "\n",
        "print(\"\\nCollaborative Recommendations:\")\n",
        "print(collaborative_recommender(user_id, k_users, top_n))"
      ],
      "metadata": {
        "colab": {
          "base_uri": "https://localhost:8080/"
        },
        "id": "XpVzLbGJ04Xb",
        "outputId": "bdcc2ffb-1055-45be-b5ba-6a1c6b6e90d4"
      },
      "execution_count": null,
      "outputs": [
        {
          "output_type": "stream",
          "name": "stdout",
          "text": [
            "Enter User ID (e.g., 1): 3\n",
            "Enter Number of Similar Users (K): 5\n",
            "Enter Number of Recommendations: 9\n",
            "\n",
            "Collaborative Recommendations:\n",
            "                                               title\n",
            "0                           Leaving Las Vegas (1995)\n",
            "1               How to Make an American Quilt (1995)\n",
            "2                          Angels and Insects (1995)\n",
            "3  Léon: The Professional (a.k.a. The Professiona...\n",
            "4    Three Colors: White (Trzy kolory: Bialy) (1994)\n",
            "5                               Boxing Helena (1993)\n",
            "6                    Welcome to the Dollhouse (1995)\n",
            "7                               Trainspotting (1996)\n",
            "8                             Time to Kill, A (1996)\n"
          ]
        }
      ]
    },
    {
      "cell_type": "code",
      "source": [],
      "metadata": {
        "id": "enS3kQUg19R3"
      },
      "execution_count": null,
      "outputs": []
    }
  ]
}